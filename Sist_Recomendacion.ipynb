{
 "cells": [
  {
   "cell_type": "code",
   "execution_count": 1,
   "metadata": {},
   "outputs": [],
   "source": [
    "#from gradio.layouts import Column\n",
    "#import gradio as gr\n",
    "from pandas.io.parquet import read_parquet\n",
    "import pandas as pd\n",
    "from surprise import Dataset\n",
    "from surprise import Reader\n",
    "from surprise.model_selection import train_test_split\n",
    "from surprise import SVD"
   ]
  },
  {
   "cell_type": "code",
   "execution_count": 20,
   "metadata": {},
   "outputs": [
    {
     "data": {
      "text/html": [
       "<div>\n",
       "<style scoped>\n",
       "    .dataframe tbody tr th:only-of-type {\n",
       "        vertical-align: middle;\n",
       "    }\n",
       "\n",
       "    .dataframe tbody tr th {\n",
       "        vertical-align: top;\n",
       "    }\n",
       "\n",
       "    .dataframe thead th {\n",
       "        text-align: right;\n",
       "    }\n",
       "</style>\n",
       "<table border=\"1\" class=\"dataframe\">\n",
       "  <thead>\n",
       "    <tr style=\"text-align: right;\">\n",
       "      <th></th>\n",
       "      <th>userId</th>\n",
       "      <th>show_id</th>\n",
       "      <th>rating_y</th>\n",
       "    </tr>\n",
       "  </thead>\n",
       "  <tbody>\n",
       "    <tr>\n",
       "      <th>0</th>\n",
       "      <td>543</td>\n",
       "      <td>as1</td>\n",
       "      <td>5.0</td>\n",
       "    </tr>\n",
       "    <tr>\n",
       "      <th>1</th>\n",
       "      <td>595</td>\n",
       "      <td>as1</td>\n",
       "      <td>3.0</td>\n",
       "    </tr>\n",
       "    <tr>\n",
       "      <th>2</th>\n",
       "      <td>611</td>\n",
       "      <td>as1</td>\n",
       "      <td>3.0</td>\n",
       "    </tr>\n",
       "    <tr>\n",
       "      <th>3</th>\n",
       "      <td>2523</td>\n",
       "      <td>as1</td>\n",
       "      <td>3.5</td>\n",
       "    </tr>\n",
       "    <tr>\n",
       "      <th>4</th>\n",
       "      <td>3082</td>\n",
       "      <td>as1</td>\n",
       "      <td>4.0</td>\n",
       "    </tr>\n",
       "  </tbody>\n",
       "</table>\n",
       "</div>"
      ],
      "text/plain": [
       "   userId show_id  rating_y\n",
       "0     543     as1       5.0\n",
       "1     595     as1       3.0\n",
       "2     611     as1       3.0\n",
       "3    2523     as1       3.5\n",
       "4    3082     as1       4.0"
      ]
     },
     "execution_count": 20,
     "metadata": {},
     "output_type": "execute_result"
    }
   ],
   "source": [
    "dfrating = read_parquet(r'./total_plataformas1.parquet', columns=['userId', 'show_id','rating_y'])\n",
    "dfrating.head()"
   ]
  },
  {
   "cell_type": "code",
   "execution_count": 10,
   "metadata": {},
   "outputs": [
    {
     "data": {
      "text/html": [
       "<div>\n",
       "<style scoped>\n",
       "    .dataframe tbody tr th:only-of-type {\n",
       "        vertical-align: middle;\n",
       "    }\n",
       "\n",
       "    .dataframe tbody tr th {\n",
       "        vertical-align: top;\n",
       "    }\n",
       "\n",
       "    .dataframe thead th {\n",
       "        text-align: right;\n",
       "    }\n",
       "</style>\n",
       "<table border=\"1\" class=\"dataframe\">\n",
       "  <thead>\n",
       "    <tr style=\"text-align: right;\">\n",
       "      <th></th>\n",
       "      <th>userId</th>\n",
       "      <th>show_id</th>\n",
       "      <th>rating_y</th>\n",
       "    </tr>\n",
       "  </thead>\n",
       "  <tbody>\n",
       "    <tr>\n",
       "      <th>9844085</th>\n",
       "      <td>113699</td>\n",
       "      <td>20132</td>\n",
       "      <td>3.5</td>\n",
       "    </tr>\n",
       "    <tr>\n",
       "      <th>1938897</th>\n",
       "      <td>63058</td>\n",
       "      <td>3383</td>\n",
       "      <td>0.5</td>\n",
       "    </tr>\n",
       "    <tr>\n",
       "      <th>4329778</th>\n",
       "      <td>60198</td>\n",
       "      <td>8930</td>\n",
       "      <td>1.0</td>\n",
       "    </tr>\n",
       "  </tbody>\n",
       "</table>\n",
       "</div>"
      ],
      "text/plain": [
       "         userId  show_id  rating_y\n",
       "9844085  113699    20132       3.5\n",
       "1938897   63058     3383       0.5\n",
       "4329778   60198     8930       1.0"
      ]
     },
     "execution_count": 10,
     "metadata": {},
     "output_type": "execute_result"
    }
   ],
   "source": [
    "from sklearn.preprocessing import LabelEncoder\n",
    "col = dfrating.show_id \n",
    "\n",
    "# creamos objeto labelencoder y ajustamos la columna\n",
    "labelE = LabelEncoder()\n",
    "labelE.fit(col)\n",
    "\n",
    "#tranformamos la columna\n",
    "col_transformada = labelE.transform(col)\n",
    "\n",
    "#lo reemplazamos a show id original\n",
    "dfrating.show_id = col_transformada\n",
    "dfrating.head(3)"
   ]
  },
  {
   "cell_type": "code",
   "execution_count": 21,
   "metadata": {},
   "outputs": [
    {
     "data": {
      "text/plain": [
       "28655"
      ]
     },
     "execution_count": 21,
     "metadata": {},
     "output_type": "execute_result"
    }
   ],
   "source": [
    "dfrating.duplicated().sum()"
   ]
  },
  {
   "cell_type": "code",
   "execution_count": 12,
   "metadata": {},
   "outputs": [],
   "source": [
    "dfrating1 = dfrating.drop_duplicates()"
   ]
  },
  {
   "cell_type": "code",
   "execution_count": 13,
   "metadata": {},
   "outputs": [
    {
     "data": {
      "text/plain": [
       "0"
      ]
     },
     "execution_count": 13,
     "metadata": {},
     "output_type": "execute_result"
    }
   ],
   "source": [
    "dfrating1.duplicated().sum()"
   ]
  },
  {
   "cell_type": "code",
   "execution_count": 22,
   "metadata": {},
   "outputs": [
    {
     "data": {
      "text/html": [
       "<div>\n",
       "<style scoped>\n",
       "    .dataframe tbody tr th:only-of-type {\n",
       "        vertical-align: middle;\n",
       "    }\n",
       "\n",
       "    .dataframe tbody tr th {\n",
       "        vertical-align: top;\n",
       "    }\n",
       "\n",
       "    .dataframe thead th {\n",
       "        text-align: right;\n",
       "    }\n",
       "</style>\n",
       "<table border=\"1\" class=\"dataframe\">\n",
       "  <thead>\n",
       "    <tr style=\"text-align: right;\">\n",
       "      <th></th>\n",
       "      <th>show_id</th>\n",
       "      <th>title</th>\n",
       "    </tr>\n",
       "  </thead>\n",
       "  <tbody>\n",
       "    <tr>\n",
       "      <th>0</th>\n",
       "      <td>as1</td>\n",
       "      <td>the grand seduction</td>\n",
       "    </tr>\n",
       "    <tr>\n",
       "      <th>1</th>\n",
       "      <td>as1</td>\n",
       "      <td>the grand seduction</td>\n",
       "    </tr>\n",
       "    <tr>\n",
       "      <th>2</th>\n",
       "      <td>as1</td>\n",
       "      <td>the grand seduction</td>\n",
       "    </tr>\n",
       "    <tr>\n",
       "      <th>3</th>\n",
       "      <td>as1</td>\n",
       "      <td>the grand seduction</td>\n",
       "    </tr>\n",
       "    <tr>\n",
       "      <th>4</th>\n",
       "      <td>as1</td>\n",
       "      <td>the grand seduction</td>\n",
       "    </tr>\n",
       "  </tbody>\n",
       "</table>\n",
       "</div>"
      ],
      "text/plain": [
       "  show_id                title\n",
       "0     as1  the grand seduction\n",
       "1     as1  the grand seduction\n",
       "2     as1  the grand seduction\n",
       "3     as1  the grand seduction\n",
       "4     as1  the grand seduction"
      ]
     },
     "execution_count": 22,
     "metadata": {},
     "output_type": "execute_result"
    }
   ],
   "source": [
    "dftitle = read_parquet(r'./total_plataformas1.parquet', columns=['show_id', 'title'])\n",
    "dftitle.head()"
   ]
  },
  {
   "attachments": {},
   "cell_type": "markdown",
   "metadata": {},
   "source": [
    "### Definimos el intervalo de rating"
   ]
  },
  {
   "cell_type": "code",
   "execution_count": 23,
   "metadata": {},
   "outputs": [],
   "source": [
    "reader = Reader(rating_scale=(1, 5))"
   ]
  },
  {
   "cell_type": "code",
   "execution_count": 24,
   "metadata": {},
   "outputs": [],
   "source": [
    "# pasamos de un dataframe a formato surprise lo cual debe tener un orden user, item, rating\n",
    "data = Dataset.load_from_df(dfrating1[['userId','show_id','rating_y']], reader)"
   ]
  },
  {
   "attachments": {},
   "cell_type": "markdown",
   "metadata": {},
   "source": [
    "# Pasos Machine Learning\n",
    "- Dividir la data en train y test\n",
    "- instanciar\n",
    "- Entrenamos\n",
    "- Predecimos\n",
    "- Evaluar"
   ]
  },
  {
   "cell_type": "code",
   "execution_count": 25,
   "metadata": {},
   "outputs": [],
   "source": [
    "#dividimos el dato en train y test de 0.3\n",
    "trainset, testset = train_test_split(data, test_size=0.3)\n",
    "\n",
    "#instanciamos\n",
    "model = SVD()\n",
    "\n",
    "#entrenamos el modelo \n",
    "model.fit(trainset)\n",
    "\n",
    "#predecimos\n",
    "predictions = model.test(testset)"
   ]
  },
  {
   "cell_type": "code",
   "execution_count": 30,
   "metadata": {},
   "outputs": [
    {
     "name": "stdout",
     "output_type": "stream",
     "text": [
      "El puntaje la pelicula con el id as1 del usuario con el id 1 es 4.097989814622066\n",
      "recomiendo\n"
     ]
    }
   ],
   "source": [
    "#prediccion\n",
    "userid = 1\n",
    "movieid = 'as1'\n",
    "\n",
    "#ver si la pelicula esta en mi base de datos\n",
    "if movieid not in dftitle.show_id.values:\n",
    "    print('La pelicula con el Id', userid, 'no existe')\n",
    "\n",
    "#ver si mi usuario esta en mi data\n",
    "if userid not in dfrating.userId.values:\n",
    "    print('El usuario con id', userid, 'no existe')\n",
    "\n",
    "# obtenemos calificacion\n",
    "user_rating = dfrating[dfrating.userId == userid]\n",
    "\n",
    "# peliculas vistas por el usuario\n",
    "user_movies = list(user_rating['show_id'])\n",
    "\n",
    "if movieid in user_movies:\n",
    "    print('el usuario ya ha visto la peliculas')\n",
    "else:\n",
    "    prediction = model.predict(userid, movieid)\n",
    "    print('El puntaje la pelicula con el id',movieid,'del usuario con el id',userid,'es', prediction.est)\n",
    "    if prediction.est >= 3.5:\n",
    "        print('recomiendo')\n",
    "    else:\n",
    "        print('no recomendada')"
   ]
  },
  {
   "attachments": {},
   "cell_type": "markdown",
   "metadata": {},
   "source": [
    "## Evaluacion del modelo"
   ]
  },
  {
   "cell_type": "code",
   "execution_count": 33,
   "metadata": {},
   "outputs": [
    {
     "name": "stdout",
     "output_type": "stream",
     "text": [
      "RMSE: 1.0023\n",
      "Al ser un numero bajo el RMSE: 1.0022587169527448 es un buen modelo\n"
     ]
    }
   ],
   "source": [
    "from surprise import accuracy\n",
    "\n",
    "a = accuracy.rmse(predictions)\n",
    "\n",
    "print('Al ser un numero bajo el RMSE:',a, 'es un buen modelo')"
   ]
  },
  {
   "cell_type": "markdown",
   "metadata": {},
   "source": []
  }
 ],
 "metadata": {
  "kernelspec": {
   "display_name": "Python 3",
   "language": "python",
   "name": "python3"
  },
  "language_info": {
   "codemirror_mode": {
    "name": "ipython",
    "version": 3
   },
   "file_extension": ".py",
   "mimetype": "text/x-python",
   "name": "python",
   "nbconvert_exporter": "python",
   "pygments_lexer": "ipython3",
   "version": "3.10.10"
  },
  "orig_nbformat": 4
 },
 "nbformat": 4,
 "nbformat_minor": 2
}
